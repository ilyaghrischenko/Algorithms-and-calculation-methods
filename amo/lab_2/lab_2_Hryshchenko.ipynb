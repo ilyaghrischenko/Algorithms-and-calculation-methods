{
 "cells": [
  {
   "cell_type": "code",
   "execution_count": null,
   "metadata": {},
   "outputs": [],
   "source": []
  },
  {
   "cell_type": "markdown",
   "metadata": {},
   "source": [
    "02.11.23, © Hryshchenko Illya, 2023"
   ]
  },
  {
   "cell_type": "markdown",
   "metadata": {},
   "source": [
    "# Лабораторна робота №2. Аналіз складності алгоритмів (short version)"
   ]
  },
  {
   "cell_type": "markdown",
   "metadata": {},
   "source": [
    "__Мета:__ _Освоїти аналіз складності алгоритмів як технологію на прикладі алгоритмів сортування методами включення та обміну._"
   ]
  },
  {
   "cell_type": "markdown",
   "metadata": {},
   "source": [
    "#### Я навчився :\n",
    "* Виконувати асимптотичний аналіз складності алгоритмів.\n",
    "* Досліджувати часову складінсть алгоритмів емпіричним шляхом засобами мови Python.\n",
    "* Вибирати оптимальний алгоритм.\n",
    "* Генерувати випадкові послідовності чисел засобами Python\n",
    "* Будувати графіки засобами бібліотеки matplotlib\n"
   ]
  },
  {
   "cell_type": "markdown",
   "metadata": {},
   "source": [
    "## Оцінка часу роботи програми на мові Python"
   ]
  },
  {
   "cell_type": "markdown",
   "metadata": {},
   "source": [
    "Один з можливих підходів оцінки часу виконання програми, написаної на Python, може бути реалізований за допомогою пакету time.\n",
    "Нижче наведено код процедури на Python, який реалізує алгоритм сортування методом вставки, і дозволяє оцінити час її виконання."
   ]
  },
  {
   "cell_type": "code",
   "execution_count": null,
   "metadata": {},
   "outputs": [
    {
     "name": "stdout",
     "output_type": "stream",
     "text": [
      "[-5, 0, 4, 18, 21, 120]\n",
      "--- 0.0019881725311279297 seconds ---\n"
     ]
    }
   ],
   "source": [
    "import time\n",
    "# \n",
    "start_time = time.time()\n",
    "# Сорутвання методом вставок (включення)\n",
    "\n",
    "def insertion_sort(nums):\n",
    "    # починаємо з другого елемента\n",
    "    for j in range(1, len(nums)):\n",
    "        key = nums[j]\n",
    "        # Зберігаємо посилання на індекс першого елемента\n",
    "        i = j - 1\n",
    "        # Елементи відсортованого сегрмента переміщуємо вперед, якщо вони більше елемента вставки\n",
    "        while i >= 0 and nums[i] > key:\n",
    "            nums[i + 1] = nums[i]\n",
    "            i -= 1\n",
    "        # Вставляємо елемент\n",
    "        nums[i + 1] = key\n",
    "\n",
    "\n",
    "# Перевірка\n",
    "random_list_of_numbers = [0, -5, 120, 18, 21, 4]\n",
    "\n",
    "insertion_sort(random_list_of_numbers)\n",
    "print(random_list_of_numbers)\n",
    "\n",
    "print(\"--- %s seconds ---\" % (time.time() - start_time))"
   ]
  },
  {
   "cell_type": "markdown",
   "metadata": {},
   "source": [
    "Код процедури на `Python`  виглядає наступним чином:"
   ]
  },
  {
   "cell_type": "code",
   "execution_count": null,
   "metadata": {},
   "outputs": [
    {
     "data": {
      "text/plain": [
       "[<matplotlib.lines.Line2D at 0x1ff1aef05b0>]"
      ]
     },
     "metadata": {},
     "output_type": "display_data"
    },
    {
     "data": {
      "image/png": "[encoded data removed]",
      "text/plain": [
       "<Figure size 640x480 with 1 Axes>"
      ]
     },
     "metadata": {},
     "output_type": "display_data"
    }
   ],
   "source": [
    "import time\n",
    "# \n",
    "start_time = time.time()\n",
    "# Сорутвання методом вставок (включення)\n",
    "\n",
    "def insertion_sort(nums):\n",
    "    # починаємо з другого елемента\n",
    "    for j in range(1, len(nums)):\n",
    "        key = nums[j]\n",
    "        # Зберігаємо посилання на індекс першого елемента\n",
    "        i = j - 1\n",
    "        # Елементи відсортованого сегрмента переміщуємо вперед, якщо вони більше елемента вставки\n",
    "        while i >= 0 and nums[i] > key:\n",
    "            nums[i + 1] = nums[i]\n",
    "            i -= 1\n",
    "        # Вставляємо елемент\n",
    "        nums[i + 1] = key\n",
    "        \n",
    "import matplotlib.pyplot as plt\n",
    "%matplotlib inline\n",
    "plt.plot([5,10,50,100,500,1000,2000,3000,4000,5000,10000,20000,50000,100000])\n",
    "\n",
    "\n"
   ]
  },
  {
   "cell_type": "code",
   "execution_count": null,
   "metadata": {},
   "outputs": [
    {
     "name": "stdout",
     "output_type": "stream",
     "text": [
      "Сортування бульбашкою\n",
      "Введіть довжину масиву: 3\n",
      "arr[1] = 34\n",
      "arr[2] = 234\n",
      "arr[3] = 23\n",
      "Відсортований масив: \n",
      "[23, 34, 234]\n"
     ]
    }
   ],
   "source": [
    "def bubble_sort(array):\n",
    "    length = len(array)\n",
    "    for i in range(0, length):\n",
    "        for j in range(0, length - i - 1):\n",
    "            if array[j] > array[j + 1]:\n",
    "                temp = array[j]\n",
    "                array[j] = array[j + 1]\n",
    "                array[j + 1] = temp\n",
    "\n",
    "print(\"Сортування бульбашкою\")\n",
    "arr = []\n",
    "n = int(input(\"Введіть довжину масиву: \")) \n",
    "for i in range(0, n): \n",
    "    element = int(input(\"arr[\" + str(i + 1) + \"] = \"))   \n",
    "    arr.append(element)\n",
    "bubble_sort(arr) \n",
    "print(\"Відсортований масив: \") \n",
    "print(arr) \n"
   ]
  },
  {
   "cell_type": "markdown",
   "metadata": {},
   "source": [
    "### Завдання для самостіної роботи\n",
    "\n",
    "1. Завантажити і встановити збірку `Python Anaconda`.\n",
    "\n",
    "1. Через інтерфейс командного рядка налаштувати за допомогою `conda` віртуальне середовище з ім'ям `<StudentLastName>_OpenCV`. Етапи роботи підтвердити скріншотами.\n",
    "\n",
    "1. Проінсталювати в створене середовище пакети, необхідні для роботи з `OpenCV`.\n",
    "\n",
    "1. Створити Notebook-документ `<lab_2_StudentLastName>` за допомогою Jupyter Notebook. (Див. [тут](https://devpractice.ru/python-lesson-1-install/), [тут](https://devpractice.ru/python-lesson-6-work-in-jupyter-notebook/) і [тут](https://jupyter-notebook.readthedocs.io/en/stable/notebook.html)).\n",
    "\n",
    "1. Подати в робочому документі (\"зошиті\" ipython) виконання пунктів 1-3 індивідуального завдання.\n",
    "\n",
    "1. Робочий документ оформити у вигляді Notebook-документу (файл __.ipynb__).\n",
    "\n",
    "1. Дати відповіді на контрольні запитання.\n",
    "\n",
    "1. Скомпілювати звіт у форматі __.html__. Для цього необхідно завантажити термінал і у командному рядку запустити наступну команду:\n",
    "\n",
    "`jupyter nbconvert lab_2_StudentLastName.ipynb --to html`\n",
    "\n",
    "10. Представити звіт у вигляді архіву. Проект має складатися мінімум з двох файлів: `lab_2_StudentLastName.ipynb` та `lab_2_StudentLastName.html`"
   ]
  },
  {
   "cell_type": "markdown",
   "metadata": {},
   "source": [
    "### Контрольні запитання\n",
    "\n",
    "1. Що таке O−нотація і чим вона відрізняється від Ω−нотації??\n",
    "Відомо, що оцінка асимптотичної складності алгоритму сортування методом включення (див. рис.) (вставки) дорівнює \n",
    "O(n2), тобто при збільшенні розміру задачі у два рази, час на її виконання збільшується вчетверо.\n",
    "Іноді корисно вміти оцінювати час виконання алгоритму на практиці, особливо у випадку, коли необхідно порівняти різні алгоритми з однаковою аисмптотикою при малих розмірах задачі.\n",
    "\n",
    "\n",
    "2. Яку часову складність має алгоритм сортування методом вставки за найсприятливішої умови, коли масив відсортовано? Відповідь обгрунтувати.\n",
    "Сортування — це алгоритм, а ефективність будь-якого алгоритму вимірюють за допомогою нотації «О» великого. «О» відповідає за кількість простих операцій, які повинен виконати алгоритм та може вимірювати витрачений час або пам’ять. Наприклад, скільки операцій потрібно зробити, щоб відсортувати масив чисел чи знайти найменше значення. Такий підхід допомагає оцінити, як буде збільшуватися час виконання алгоритму зі зростанням вхідних даних — методу може бути передано масив і з 10, і з 1000 чисел.\n",
    "\n",
    "Алгоритм сортування методом вставки зазвичай складається з двох основних кроків, а саме: проходження по масиву та вставки в елементів на відповідні місця у відсортовану частину масиву.\n",
    "\n",
    "\n",
    "3. Дати визначення ефективного алогоритму.\n",
    "Ефективність алгоритму — це алгоритм влади, пов'язаний з обчислювальними ресурсами, що використано алгоритмом. Алгоритм повинен бути проаналізований з визначенням певного йому ресурсу. Ефективність алгоритму можна розглядати як аналог виробничої продуктивності повторюваних або безперервних процесів.\n",
    "\n",
    "\n",
    "4. Пояснити поняття головного параметра (розміру) задачі.\n",
    "Це властивість задачі, яка визначає її обчислювальну складність. Головний параметр зазвичай пов'язаний з розміром вхідних даних, необхідних для розв'язання задачі. Зазвичай є першим фактором при аналізі складності.\n",
    "Приклад: для задачі сортування масиву, головним параметром є кількість елементів у масиві, який потрібно відсортувати.\n",
    "Головний параметр не завжди є головним фактором, що визначає складність задачі. Складність алгоритму може також залежати не тільки від розміру вхідних даних та й від способу представлення даних чи від складності обчислень які можуть бути необхідними для виконання операцій над даними.\n",
    "\n",
    "\n",
    "5. Функція часової складності має вигляд: F(N)=N3+7N2−14N. Як записати аисмптотичну складність в нотації O()?\n",
    "Для запису асимптотичної складності функції використовується нотація \\$O(N)\\$, що вказує на оцінку зверху складності функції при збільшенні розміру вхідних даних N.\n",
    "Тому, для функції часової складності, що має вигляд F(N) = \\$F(N)=N^3+7N^2-14N\\$ можна записати її в асимптотичну складність у нотації \\$O(N^3)\\$, оскільки при збільшенні розміру вхідних даних N, найбільший вплив на складність буде мати член\\$ N^3\\$.\n"
   ]
  }
 ],
 "metadata": {
  "language_info": {
   "name": "python"
  }
 },
 "nbformat": 4,
 "nbformat_minor": 2
}
