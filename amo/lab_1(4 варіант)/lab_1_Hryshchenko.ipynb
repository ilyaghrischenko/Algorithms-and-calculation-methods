{
 "cells": [
  {
   "cell_type": "code",
   "execution_count": null,
   "metadata": {},
   "outputs": [],
   "source": []
  },
  {
   "cell_type": "markdown",
   "metadata": {},
   "source": [
    "#### 01.11.23, &copy; Hryshchenko Illya, 2023"
   ]
  },
  {
   "cell_type": "markdown",
   "metadata": {},
   "source": [
    "![image/face.jpg](image/face.jpg)"
   ]
  },
  {
   "cell_type": "markdown",
   "metadata": {},
   "source": [
    "# <div style=\"text-align: center\">Лабораторна робота №1. Робота в середовищі Anaconda</div>"
   ]
  },
  {
   "cell_type": "markdown",
   "metadata": {},
   "source": [
    "__Мета:__ _quick start для роботи в середовищі Anaconda із застосуванням Jupyter Notebook засобами мови програмування Python._"
   ]
  },
  {
   "cell_type": "markdown",
   "metadata": {},
   "source": [
    "#### Що я навчився робити:\n",
    "* Інсталлювати дистрибутив Python Anaconda.\n",
    "* Налаштовувати віртуальне середовище за допомогою системи управління віртуальним середовищем Conda для Windows.\n",
    "* Інсталювати допоміжні бібліотеки.\n",
    "* Створювати у середовищі Jupyter Notebook інтерактивні документи на кшталт того, який ви читаєте в дану хвилину."
   ]
  },
  {
   "cell_type": "markdown",
   "metadata": {},
   "source": [
    "## <div style=\"text-align: center\">Налаштування віртуального середовища</div>\n",
    "## <div style=\"text-align: center\">Завдання для самостіної роботи</div>"
   ]
  },
  {
   "cell_type": "markdown",
   "metadata": {},
   "source": [
    "### 1. Завантажити і встановити збірку Python Anaconda."
   ]
  },
  {
   "cell_type": "markdown",
   "metadata": {},
   "source": [
    "![image/1.png](image/1.png)"
   ]
  },
  {
   "cell_type": "markdown",
   "metadata": {},
   "source": [
    "Середовище `conda` і `pyton` оновлені успішно за допомогою команди `conda update --all`."
   ]
  },
  {
   "cell_type": "markdown",
   "metadata": {},
   "source": [
    "### 2. Через інтерфейс командного рядка налаштувати за допомогою conda віртуальне середовище з ім'ям."
   ]
  },
  {
   "cell_type": "markdown",
   "metadata": {},
   "source": [
    "![image/env.png](image/env.png)"
   ]
  },
  {
   "cell_type": "markdown",
   "metadata": {},
   "source": [
    "Створено власне віртуальне середовище."
   ]
  },
  {
   "cell_type": "markdown",
   "metadata": {},
   "source": [
    "### 3. Проінсталювати в створене середовище пакети, необхідні для роботи з OpenCV."
   ]
  },
  {
   "cell_type": "markdown",
   "metadata": {},
   "source": [
    "![image/list.png](image/list.png)"
   ]
  },
  {
   "cell_type": "markdown",
   "metadata": {},
   "source": [
    "Бібліотеку `openCV` та допоміжні пакети встановлено."
   ]
  },
  {
   "cell_type": "markdown",
   "metadata": {},
   "source": [
    "# <div style=\"text-align: center\">Контрольні запитання</div>"
   ]
  },
  {
   "cell_type": "markdown",
   "metadata": {},
   "source": [
    "### 1. Що таке pip і conda та чим вони відрізняються між собою?\n",
    "\n",
    "`pip і conda` - це два засоби управління пакетами для мов програмування Python і R відповідно.\n",
    "\n",
    "`pip` - це стандартний пакетний менеджер для Python, який дозволяє встановлювати та управляти залежностями Python-проектів.        \n",
    "`conda` - це пакетний менеджер та середовище управління пакетами для мови програмування R та Python.\n",
    "\n",
    "Основна різниця між Conda і pip полягає в тому, що Conda - це пакетний менеджер та середовище управління пакетами для мови програмування Python та інших мов, таких як R та C++. Conda забезпечує більш широкий спектр можливостей управління залежностями та середовищами.\n",
    "### 2. Як буде виглядати виконання пунктів 1-3 індивідуального завдання за допомогою Virtualenv?\n",
    "\n",
    "1. Завантажити та встановити збірку Python\n",
    "\n",
    "1. Встановити Virtualenv: pip install virtualenv\n",
    "\n",
    "1. Створити віртуальне середовище: virtualenv <StudentLastName>_OpenCV\n",
    "    \n",
    "1. Активувати віртуальне середовище: source <StudentLastName>_OpenCV/bin/activate\n",
    "    \n",
    "1. Встановити необхідні пакети за допомогою pip: pip install opencv-python numpy matplotlib"
   ]
  },
  {
   "cell_type": "markdown",
   "metadata": {},
   "source": [
    "### 4. Написати процедуру на Python сортування масиву методом бульбашки."
   ]
  },
  {
   "cell_type": "code",
   "execution_count": null,
   "metadata": {},
   "outputs": [],
   "source": [
    "def bubble_sort(arr):\n",
    "    n = len(arr)\n",
    "    # Проходження через усі елементи масиву\n",
    "    for i in range(n):\n",
    "        # Останні i елементів вже відсортовані, тому їх можна пропустити\n",
    "        for j in range(0, n-i-1):\n",
    "            # Порівняння сусідніх елементів\n",
    "            if arr[j] > arr[j+1] :\n",
    "                # Зміна порядку елементів\n",
    "                arr[j], arr[j+1] = arr[j+1], arr[j]\n",
    "    return arr"
   ]
  },
  {
   "cell_type": "markdown",
   "metadata": {},
   "source": [
    "### 5. Як виконати компіляцію вхідного документа Jupyter Notebook із його середовища , не використовуючи інтерфейс командного рядка?\n",
    "\n",
    "Щоб виконати компіляцію Jupyter Notebook без використання інтерфейсу командного рядка, можна використовувати вбудовані засоби самого середовища.\n",
    "\n",
    "1. Відкрийте Jupyter Notebook у браузері та відкрийте потрібний файл.\n",
    "\n",
    "1. Перейдіть до вкладки \"Kernel\" в меню та виберіть \"Restart & Run All\". Ця опція перезапустить ядро та виконає усі комірки з початку до кінця файлу.\n",
    "\n",
    "1. Якщо ви хочете виконати окремі комірки, ви можете вибрати \"Run\" для окремої комірки або \"Run All Above\" для всіх комірок, що знаходяться вище вибраної комірки.\n",
    "\n",
    "1. Після того, як виконання буде завершено, можна зберегти зміни та закрити файл.\n",
    "\n"
   ]
  },
  {
   "cell_type": "markdown",
   "metadata": {},
   "source": [
    "### References\n",
    "\n",
    "1. Anaconda (Python distribution). https://uk.wikipedia.org/wiki/Anaconda_(Python_distribution)\n",
    "2. Conda. https://conda.io/en/latest/\n",
    "3. Chat GPT https://chat.openai.com/chat"
   ]
  }
 ],
 "metadata": {
  "language_info": {
   "name": "python"
  }
 },
 "nbformat": 4,
 "nbformat_minor": 2
}
