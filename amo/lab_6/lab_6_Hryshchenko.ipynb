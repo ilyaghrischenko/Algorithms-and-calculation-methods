{
 "cells": [
  {
   "cell_type": "code",
   "execution_count": null,
   "metadata": {},
   "outputs": [],
   "source": []
  },
  {
   "cell_type": "markdown",
   "metadata": {},
   "source": [
    "07.11.23, © Hryshchenko Illya, 2023"
   ]
  },
  {
   "cell_type": "markdown",
   "metadata": {},
   "source": [
    "# Лабораторна робота №6. Структури даних дерево і купа"
   ]
  },
  {
   "cell_type": "markdown",
   "metadata": {},
   "source": [
    "__Мета:__ _Засвоїти основні функції та алгоритми роботи з деревами та купою засобами Python._ "
   ]
  },
  {
   "cell_type": "markdown",
   "metadata": {},
   "source": [
    "### Дерева\n",
    "[Дерево](https://uk.wikipedia.org/wiki/%D0%94%D0%B5%D1%80%D0%B5%D0%B2%D0%BE_(%D1%81%D1%82%D1%80%D1%83%D0%BA%D1%82%D1%83%D1%80%D0%B0_%D0%B4%D0%B0%D0%BD%D0%B8%D1%85)) - це базова структура даних, визначається як скінченна множина $Т$ з однією або більше вершинами (вузлами, nodes), яка задовольняє наступним вимогам:\n",
    "* існує один відокремлений вузол — корінь (root) дерева\n",
    "* інші вузли (за винятком кореня) розподілені серед $m ≥ 0$ непересічних множин $T_1 … T_m$ і кожна з цих множин, в свою чергу, є деревом. Дерева $T_1 … T_m$ мають назву піддерев (subtrees) даного кореня.\n",
    "\n",
    "Дерево без вузлів називається _нульовим_ або _порожнім деревом_. Дерево, яке не є порожнім, складається з _кореневого вузла_ і багатьох рівнів додаткових вузлів, які утворюють _ієрархію_.\n"
   ]
  },
  {
   "cell_type": "markdown",
   "metadata": {},
   "source": [
    "### Реалізація за допомогою списків\n",
    "У дереві, представленому як список списків, на першій позиції ми будемо зберігати значення кореневого вузла. Другий елемент сам по собі буде списком і представлятиме ліве піддерево. Третій елемент стане правим піддеревом. Щоб проілюструвати таку техніку зберігання, розглянемо приклад двійкового дерева.\n",
    "На Python це буде виглядати так:"
   ]
  },
  {
   "cell_type": "code",
   "execution_count": null,
   "metadata": {},
   "outputs": [],
   "source": [
    "myTree = ['a',   #root\n",
    "      ['b',  #left subtree\n",
    "       ['d', [], []],\n",
    "       ['e', [], []] ],\n",
    "      ['c',  #right subtree\n",
    "       ['f', [], []],\n",
    "       [] ]\n",
    "     ]"
   ]
  },
  {
   "cell_type": "markdown",
   "metadata": {},
   "source": [
    "Зверніть увагу, що у нас є доступ до кожного з піддерев з використанням стандартної спискової індексації. Корінь дерева - `myTree [0]`, ліве піддерево - `myTree [1]`, праве - `myTree [2]`."
   ]
  },
  {
   "cell_type": "code",
   "execution_count": null,
   "metadata": {},
   "outputs": [
    {
     "name": "stdout",
     "output_type": "stream",
     "text": [
      "['a', ['b', ['d', [], []], ['e', [], []]], ['c', ['f', [], []], []]]\n",
      "left subtree =  ['b', ['d', [], []], ['e', [], []]]\n",
      "root =  a\n",
      "right subtree =  ['c', ['f', [], []], []]\n",
      "e\n"
     ]
    }
   ],
   "source": [
    "myTree = ['a', ['b', ['d',[],[]], ['e',[],[]] ], ['c', ['f',[],[]], []] ]\n",
    "print(myTree)\n",
    "print('left subtree = ', myTree[1])\n",
    "print('root = ', myTree[0])\n",
    "print('right subtree = ', myTree[2])\n",
    "print(myTree[1][2][0])"
   ]
  },
  {
   "cell_type": "markdown",
   "metadata": {},
   "source": [
    "### Функції для роботи з деревами\n",
    "Дане визначення можна формалізувати за допомогою деяких функцій, які зроблять простіше використання списків як дерев. Слід звернути увагу на те, що при цьому не визначається новий клас для двійкового дерева. Функції, які будуть написані, всього лише допоможуть маніпулювати стандартні списком, з яким ми працюємо, як з деревом.\n",
    "### [Реалізація дерев за допомогою списків на Python](https://github.com/yorko/python_intro)"
   ]
  },
  {
   "cell_type": "code",
   "execution_count": null,
   "metadata": {},
   "outputs": [],
   "source": [
    "# Задання вузла бінарного дерева\n",
    "def BinaryTree(r):\n",
    "    return [r, [], []]\n",
    "\n",
    "# Додавання елемента у ліве піддерево\n",
    "def insertLeft(root, newBranch):\n",
    "    t = root.pop(1)\n",
    "    if len(t) > 1:\n",
    "        root.insert(1,[newBranch,t,[]])\n",
    "    else:\n",
    "        root.insert(1,[newBranch, [], []])\n",
    "    return root\n",
    "\n",
    "# Додавання елемента у праве піддерево\n",
    "def insertRight(root, newBranch):\n",
    "    t = root.pop(2)\n",
    "    if len(t) > 1:\n",
    "        root.insert(2,[newBranch,[],t])\n",
    "    else:\n",
    "        root.insert(2,[newBranch,[],[]])\n",
    "    return root\n",
    "\n",
    "# Повернути значення кореневого елемента\n",
    "def getRootVal(root):\n",
    "    return root[0]\n",
    "\n",
    "# Присвоєння нового значення кореневому елементу\n",
    "def setRootVal(root,newVal):\n",
    "    root[0] = newVal\n",
    "\n",
    "# Повернути ліве піддерево  \n",
    "def getLeftChild(root):\n",
    "    return root[1]\n",
    "\n",
    "# Повернути праве піддерево\n",
    "def getRightChild(root):\n",
    "    return root[2]"
   ]
  },
  {
   "cell_type": "markdown",
   "metadata": {},
   "source": [
    "Нижче показано приклад роботи з вищеописаними функціями."
   ]
  },
  {
   "cell_type": "code",
   "execution_count": null,
   "metadata": {},
   "outputs": [
    {
     "name": "stdout",
     "output_type": "stream",
     "text": [
      "[5, [4, [], []], []]\n",
      "[3, [9, [4, [], []], []], [7, [], [6, [], []]]]\n",
      "[3, [9, [11, [4, [], []], []], []], [7, [], [6, [], []]]]\n",
      "[6, [], []]\n"
     ]
    }
   ],
   "source": [
    "# Приклад\n",
    "r = BinaryTree(3)\n",
    "insertLeft(r,4)\n",
    "insertLeft(r,5)\n",
    "insertRight(r,6)\n",
    "insertRight(r,7)\n",
    "l = getLeftChild(r)\n",
    "print(l)\n",
    "\n",
    "setRootVal(l,9)\n",
    "print(r)\n",
    "insertLeft(l,11)\n",
    "print(r)\n",
    "print(getRightChild(getRightChild(r)))"
   ]
  },
  {
   "cell_type": "markdown",
   "metadata": {},
   "source": [
    "__Завдання на самостійну роботу:__\n",
    "\n",
    "* Створити бінарне дерево згідно з варіантом, виданим викладачем.\n",
    "* Написати процедуру видалення заданої гілки дерева.\n",
    "* Оцінити асисптотичну складність (в середньому і в найгіршому випадку) процедур `search`, `insert` і `delete` роботи з деревом."
   ]
  },
  {
   "cell_type": "code",
   "execution_count": null,
   "metadata": {},
   "outputs": [],
   "source": [
    "class Node:\n",
    "    def __init__(self, value=None):\n",
    "        self.value = value\n",
    "        self.left_child = None\n",
    "        self.right_child = None\n",
    "    \n",
    "class BinaryTree:\n",
    "    def __init__(self):\n",
    "        self.root = None\n",
    "    \n",
    "    def insert(self, value):\n",
    "        if self.root is None:\n",
    "            self.root = Node(value)\n",
    "        else:\n",
    "            self._insert(value, self.root)\n",
    "    \n",
    "    def _insert(self, value, current_node):\n",
    "        if value < current_node.value:\n",
    "            if current_node.left_child is None:\n",
    "                current_node.left_child = Node(value)\n",
    "            else:\n",
    "                self._insert(value, current_node.left_child)\n",
    "        elif value > current_node.value:\n",
    "            if current_node.right_child is None:\n",
    "                current_node.right_child = Node(value)\n",
    "            else:\n",
    "                self._insert(value, current_node.right_child)\n",
    "        else:\n",
    "            print(\"Value already exists in tree.\")\n",
    "    \n",
    "    def search(self, value):\n",
    "        if self.root is None:\n",
    "            return False\n",
    "        else:\n",
    "            return self._search(value, self.root)\n",
    "    \n",
    "    def _search(self, value, current_node):\n",
    "        if value == current_node.value:\n",
    "            return True\n",
    "        elif value < current_node.value and current_node.left_child is not None:\n",
    "            return self._search(value, current_node.left_child)\n",
    "        elif value > current_node.value and current_node.right_child is not None:\n",
    "            return self._search(value, current_node.right_child)\n",
    "        else:\n",
    "            return False\n",
    "    \n",
    "    def delete(self, value):\n",
    "        if self.root is None:\n",
    "            print(\"Tree is empty.\")\n",
    "        else:\n",
    "            self.root = self._delete(value, self.root)\n",
    "    \n",
    "    def _delete(self, value, current_node):\n",
    "        if value < current_node.value:\n",
    "            current_node.left_child = self._delete(value, current_node.left_child)\n",
    "        elif value > current_node.value:\n",
    "            current_node.right_child = self._delete(value, current_node.right_child)\n",
    "        else:\n",
    "            if current_node.left_child is None and current_node.right_child is None:\n",
    "                del current_node\n",
    "                return None\n",
    "            elif current_node.left_child is None:\n",
    "                temp_node = current_node.right_child\n",
    "                del current_node\n",
    "                return temp_node\n",
    "            elif current_node.right_child is None:\n",
    "                temp_node = current_node.left_child\n",
    "                del current_node\n",
    "                return temp_node\n",
    "            else:\n",
    "                temp_node = self._get_min_value_node(current_node.right_child)\n",
    "                current_node.value = temp_node.value\n",
    "                current_node.right_child = self._delete(temp_node.value, current_node.right_child)\n",
    "        \n",
    "        return current_node\n",
    "    \n",
    "    def _get_min_value_node(self, current_node):\n",
    "        if current_node.left_child is None:\n",
    "            return current_node\n",
    "        else:\n",
    "            return self._get_min_value_node(current_node.left_child)\n"
   ]
  },
  {
   "cell_type": "markdown",
   "metadata": {},
   "source": [
    "Процедура видалення заданої гілки дерева може бути реалізована наступним чином:\n",
    "\n",
    "Перевірка чи вузол, який потрібно видалити є кореневим вузлом. Якщо так, то весь дерево потрібно видалити.\n",
    "\n",
    "Перевірка чи вузол, який потрібно видалити має жодних нащадків (лівих або правих). Якщо так, то просто видалити цей вузол.\n",
    "\n",
    "Якщо вузол має одного нащадка, то вузол потрібно замінити на його нащадка.\n",
    "\n",
    "Якщо вузол має двох нащадків, то потрібно замінити його на найбільший вузол у його лівому піддереві або на найменший вузол у його правому піддереві. Для знаходження найбільшого або найменшого вузла можна використати наступні правила:\n",
    "\n",
    "Найбільший вузол у лівому піддереві буде останнім вузлом у найправішій гілці цього піддерева.\n",
    "\n",
    "Найменший вузол у правому піддереві буде першим вузлом у найлівішій гілці цього піддерева.\n",
    "\n",
    "Отже, процедура видалення гілки дерева може бути реалізована за допомогою рекурсії. Ось код на Python:\n",
    "\n",
    "python\n",
    "Copy code\n",
    "def deleteNode(root, val):\n",
    "    if root is None:\n",
    "        return root\n",
    "\n",
    "    if val < root[0]:\n",
    "        root[1] = deleteNode(root[1], val)\n",
    "    elif val > root[0]:\n",
    "        root[2] = deleteNode(root[2], val)\n",
    "    else:\n",
    "        if root[1] is None:\n",
    "            temp = root[2]\n",
    "            root = None\n",
    "            return temp\n",
    "        elif root[2] is None:\n",
    "            temp = root[1]\n",
    "            root = None\n",
    "            return temp\n",
    "\n",
    "        temp = minValueNode(root[2])\n",
    "        root[0] = temp[0]\n",
    "        root[2] = deleteNode(root[2], temp[0])\n",
    "\n",
    "    return root\n",
    "\n",
    "def minValueNode(node):\n",
    "    current = node\n",
    "\n",
    "    while current[1] is not None:\n",
    "        current = current[1]\n",
    "\n",
    "    return current\n"
   ]
  },
  {
   "cell_type": "markdown",
   "metadata": {},
   "source": [
    "Асимптотична складність операцій в дереві залежить від балансу дерева та від того, наскільки операції виконуються ефективно. Для спрощення розглянемо ситуацію, коли бінарне дерево є повним, тобто кожен вузол має двох нащадків, і вузол з ключем меншим за батьківський ключ знаходиться в лівому піддереві, а вузол з ключем більшим за батьківський ключ - у правому піддереві.\n",
    "\n",
    "Search:\n",
    "\n",
    "Середня складність - O(log n)\n",
    "Найгірша складність - O(n)\n",
    "Insert:\n",
    "\n",
    "Середня складність - O(log n)\n",
    "Найгірша складність - O(n)\n",
    "Delete:\n",
    "\n",
    "Середня складність - O(log n)\n",
    "Найгірша складність - O(n)\n",
    "У випадку, коли баланс дерева порушується, наприклад, дерево є лівостороннім або правостороннім, складність операцій може стати квадратичною - O(n^2). Однак, застосування більш складних структур даних, таких як AVL-дерева чи червоно-чорні дерева, може допомогти уникнути цього проблеми і зменшити асимптотичну складність операцій до O(log n)."
   ]
  },
  {
   "cell_type": "markdown",
   "metadata": {},
   "source": [
    "### Купа\n",
    "[**Купа**](https://docs.python.org/2/library/heapq.html) -- бінарне дерево. А це означає, що кожен батьківський елемент має два дочірніх. І хоча ми називаємо цю структуру даних купою, виражається вона через звичайний масив.\n",
    "Висота купи -- приблизно ціла частина $log(n)$, де $n$ -- кількість елементів. "
   ]
  },
  {
   "cell_type": "markdown",
   "metadata": {},
   "source": [
    "***\n",
    "Операція| В середньому | Найгірший випадок\n",
    " --------|-------|-----------\n",
    " Search min| $\\Theta (1)$| $O(1)$\n",
    " Search max| $\\Theta (logn)$| $O(logn)$\n",
    " Insert| $\\Theta (logn)$| $O(logn)$\n",
    " Delete| $\\Theta (logn)$| $O(logn)$"
   ]
  },
  {
   "cell_type": "markdown",
   "metadata": {},
   "source": [
    "### __Особливість представлення купи в Python__\n",
    "Купа задається у вигляді масиву. В Python нумерація елементів масиву починається з нуля.\n",
    "### __Декілька простих функцій Python для роботи з купами__\n"
   ]
  },
  {
   "cell_type": "code",
   "execution_count": null,
   "metadata": {},
   "outputs": [],
   "source": [
    "global heap\n",
    "global currSize\n",
    "\n",
    "def parent(i): #Отримати індекс батьківського вузла для i-го елемента\n",
    "    return i // 2\n",
    "\n",
    "def left(i): #Отримати лівий дочірній елемент от i-го\n",
    "    return 2*i\n",
    "\n",
    "def right(i): #Отримати правий дочірній елемент от i-го\n",
    "    return (2*i + 1)"
   ]
  },
  {
   "cell_type": "markdown",
   "metadata": {},
   "source": [
    "#### Додавання елемента до існуючої купи\n",
    "Для початку ми додаємо елемент в самий низ купи, тобто в кінець масиву. Потім ми міняємо його місцями з батьківським елементом до тих пір, поки він не стане на своє місце.\n",
    "\n",
    "**Алгоритм**:\n",
    "\n",
    "1. Додаємо елемент на самий низ купи.\n",
    "2. Порівнюємо доданий елемент з батьківським; якщо порядок вірний - зупиняємося.\n",
    "3. Якщо немає - міняємо елементи місцями, і повертаємося до попереднього пункту."
   ]
  },
  {
   "cell_type": "code",
   "execution_count": null,
   "metadata": {},
   "outputs": [],
   "source": [
    "def swap(a, b): # міняемо елемент з індексом a на елемент з індексом b\n",
    "    temp = heap[a]\n",
    "    heap[a] = heap[b]\n",
    "    heap[b] = temp\n",
    "\n",
    "def insert(elem):\n",
    "    global currSize\n",
    "    \n",
    "    index = len(heap)\n",
    "    heap.append(elem)\n",
    "    currSize += 1\n",
    "    par = parent(index)\n",
    "    flag = 0\n",
    "    while flag != 1:\n",
    "        if index == 1: #Дійшли до кореневого елемента\n",
    "            flag = 1\n",
    "        elif heap[par] > elem: #Якщо індекс кореневого елемента більше індекса\n",
    "#             нашего елемента - наш елемент на своєму місці\n",
    "            flag = 1\n",
    "        else: #Міняємо місцями батьківський елемент з нашим\n",
    "            swap(par, index)\n",
    "            index = par\n",
    "            par = parent(index)\n",
    "            \n",
    "    print(heap)"
   ]
  },
  {
   "cell_type": "markdown",
   "metadata": {},
   "source": [
    "Максимальна кількість проходів циклу `while` дорівнює висоті дерева, або $log(n)$, отже, трудомісткість алгоритму - $O(log (n))$.\n",
    "_Вилучення максимального елемента купи__\n",
    "\n",
    "\n",
    "Перший елемент у купі - завжди максимальний, так що ми просто видалимо його (попередньо запам'ятавши), і замінимо самим нижнім. Потім ми приведемо купу до правильного порядку, використовуючи функцію: `maxHeapify()`\n",
    "\n",
    "**Алгоритм**:\n",
    "1. Замінити кореневий елемент самим нижнім.\n",
    "2. Порівняти новий кореневий елемент з дочірніми. Якщо вони в правильному порядку - зупинитися.\n",
    "3. Якщо немає - замінити кореневий елемент на одного з дочірніх (менший для min-heap, більший для max-heap), і повторити крок 2."
   ]
  },
  {
   "cell_type": "code",
   "execution_count": null,
   "metadata": {},
   "outputs": [],
   "source": [
    "def extractMax():\n",
    "    global currSize\n",
    "    if currSize != 0:\n",
    "        maxElem = heap[1]\n",
    "        heap[1] = heap[currSize] # Заменяем корневой элемент - последним\n",
    "        heap.pop(currSize) # Удаляем последний элемент\n",
    "        currSize -= 1 # Уменьшаем размер кучи\n",
    "        maxHeapify(1)\n",
    "        return maxElem\n",
    "\n",
    "def maxHeapify(index):\n",
    "    global currSize\n",
    "    \n",
    "    lar = index\n",
    "    l = left(index)\n",
    "    r = right(index)\n",
    "\n",
    "    # Вычисляем, какой из дочерних элементов больше; если он больше родительского - меняем местами\n",
    "    if l <= currSize and heap[l] > heap[lar]:\n",
    "        lar = l\n",
    "    if r <= currSize and heap[r] > heap[lar]:\n",
    "        lar = r\n",
    "    if lar != index:\n",
    "        swap(index, lar)\n",
    "        maxHeapify(lar)"
   ]
  },
  {
   "cell_type": "markdown",
   "metadata": {},
   "source": [
    "І знову максимальна кількість викликів функції `maxHeapify` дорівнює висоті дерева, або $log(n)$, а значить, трудомісткість алгоритму - $O(logn)$."
   ]
  },
  {
   "cell_type": "markdown",
   "metadata": {},
   "source": [
    "__Завдання на самостійну роботу__:\n",
    "\n",
    "* Написати процедуру генерації купи з будь-якого рандомного масива\n",
    "* Додати до нього елемент, який дорівнює вашому порядковому номеру у списку групи\n",
    "* Вилучити максимальний елемент з купи\n",
    "* Оцінити асимптотичну складність (в середньому і в найгіршому випадку) процедур `search`, `insert` і `delete` роботи з з купою."
   ]
  },
  {
   "cell_type": "code",
   "execution_count": null,
   "metadata": {},
   "outputs": [
    {
     "name": "stdout",
     "output_type": "stream",
     "text": [
      "Початковий масив: [72, 44, 81, 100, 52, 80, 32, 78, 57, 62]\n",
      "Відсортований масив: [18, 32, 44, 52, 57, 62, 72, 78, 80, 81, 100]\n"
     ]
    }
   ],
   "source": [
    "import random\n",
    "\n",
    "# Генерація рандомного масиву\n",
    "arr = [random.randint(0, 100) for i in range(10)]\n",
    "print(\"Початковий масив:\", arr)\n",
    "\n",
    "# Додавання елементу, що дорівнює порядковому номеру у списку групи\n",
    "arr.append(18)\n",
    "\n",
    "# Функція для створення купи\n",
    "def heapify(arr, n, i):\n",
    "    # Ініціалізація батьківського елемента як найбільшого\n",
    "    largest = i  \n",
    "    l = 2 * i + 1     # Лівий дочірній елемент\n",
    "    r = 2 * i + 2     # Правий дочірній елемент\n",
    "  \n",
    "    # Перевірка, чи лівий дочірній елемент більший за батьківський\n",
    "    if l < n and arr[i] < arr[l]:\n",
    "        largest = l\n",
    "  \n",
    "    # Перевірка, чи правий дочірній елемент більший за батьківський\n",
    "    if r < n and arr[largest] < arr[r]:\n",
    "        largest = r\n",
    "  \n",
    "    # Заміна батьківського елемента з найбільшим дочірнім, якщо потрібно\n",
    "    if largest != i:\n",
    "        arr[i],arr[largest] = arr[largest],arr[i]  # Обмін значень\n",
    "  \n",
    "        # Рекурсивне створення купи для піддерева\n",
    "        heapify(arr, n, largest)\n",
    "  \n",
    "# Функція для сортування купи\n",
    "def heapSort(arr):\n",
    "    n = len(arr)\n",
    "  \n",
    "    # Створення купи з рандомного масиву\n",
    "    for i in range(n // 2 - 1, -1, -1):\n",
    "        heapify(arr, n, i)\n",
    "  \n",
    "    # Вилучення максимального елементу та сортування купи\n",
    "    for i in range(n-1, 0, -1):\n",
    "        arr[i], arr[0] = arr[0], arr[i]  # Обмін значень\n",
    "        heapify(arr, i, 0)\n",
    "\n",
    "# Виведення відсортованого масиву\n",
    "heapSort(arr)\n",
    "print(\"Відсортований масив:\", arr)\n"
   ]
  },
  {
   "cell_type": "markdown",
   "metadata": {},
   "source": [
    "Асимптотична складність процедур з купою залежить від глибини купи, яка може бути оцінена за допомогою логарифма за основою 2. Оскільки купа має форму повного бінарного дерева, глибина купи дорівнює log₂(n), де n - кількість елементів у купі.\n",
    "\n",
    "Отже, оцінки складності для процедур з купою залежать від глибини купи, і можуть бути визначені як:\n",
    "\n",
    "search: O(log n)\n",
    "insert: O(log n)\n",
    "delete: O(log n)\n",
    "Отже, у середньому і в найгіршому випадках, часова складність для пошуку, вставки та вилучення елемента з купи - O(log n)."
   ]
  },
  {
   "cell_type": "markdown",
   "metadata": {},
   "source": [
    "### Контрольні запитання.\n",
    "1. Чим відрізняється структура _бінарне дерево_ він _бінарного дерева пошуку_?\n",
    "\n",
    "Бінарне дерево і бінарне дерево пошуку - це дві різні структури даних.\n",
    "\n",
    "Бінарне дерево - це структура даних, де кожен вузол має не більше двох дітей (лівого та правого). Вузли зазвичай містять деяку інформацію та вказівники на своїх дітей.\n",
    "\n",
    "Бінарне дерево пошуку (Binary Search Tree, BST) - це також бінарне дерево, де кожен вузол має не більше двох дітей, але вузли містять ключі та відношення між ключами визначає їхню позицію у дереві. Ключі зазвичай зберігаються таким чином, щоб ключ у лівому піддереві був менший, ніж ключ в поточному вузлі, а ключ у правому піддереві - більший, ніж ключ поточного вузла. Ця структура даних надає швидкий доступ до даних з використанням алгоритмів пошуку, таких як пошук мінімального/максимального елементу або пошук елементу за ключем.\n",
    "\n",
    "Отже, основна відмінність між бінарним деревом та бінарним деревом пошуку полягає в тому, що в бінарному дереві пошуку вузли містять ключі, які впорядковані залежно від їхнього відношення, що дозволяє швидко виконувати пошук та інші операції, пов'язані з порівнянням ключів.\n",
    "\n",
    "1. Чим відрізняється структура _бінарне дерево_ від _бінарної купи_?\n",
    "\n",
    "Бінарне дерево та бінарна купа є двома різними структурами даних.\n",
    "\n",
    "Бінарне дерево - це структура даних, яка складається з вузлів, де кожен вузол містить по два дочірніх вузли. Кожен дочірній вузол може також мати свої дочірні вузли і так далі. Зазвичай, вузли бінарного дерева містять якусь інформацію, а структура використовується для реалізації різних алгоритмів, таких як обхід дерева або пошук вузлів за заданим ключем.\n",
    "\n",
    "Бінарна купа - це деревоподібна структура даних, де кожен вузол має значення не менше (або не більше, якщо купа мінімальна) за значенням його дочірніх вузлів. Купа може бути реалізована як масив, де кожен елемент масиву відповідає вузлу купи, а його позиція в масиві відповідає позиції вузла в дереві. Купи використовуються, зокрема, для ефективної реалізації алгоритмів сортування, таких як heapsort.\n",
    "\n",
    "Отже, хоча бінарні дерева і бінарні купи мають певну схожість у структурі, вони мають різні властивості та використовуються для різних цілей."
   ]
  }
 ],
 "metadata": {
  "language_info": {
   "name": "python"
  }
 },
 "nbformat": 4,
 "nbformat_minor": 2
}
