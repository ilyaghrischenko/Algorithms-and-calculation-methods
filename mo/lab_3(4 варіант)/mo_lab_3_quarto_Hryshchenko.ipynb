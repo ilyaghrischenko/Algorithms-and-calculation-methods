{
 "cells": [
  {
   "cell_type": "markdown",
   "metadata": {},
   "source": [
    "---\n",
    "title: \"Лабораторна робота №3. Розв'язання задачі багатовимірної нелінійної  оптимізації\"\n",
    "description:\n",
    "  Документ зроблено в [Quarto](https://quarto.org/)\n",
    "author: \"&copy; [Valeriy Sydorenko](https://www.linkedin.com/in/valeriy-sydorenko-6782279a/), Hryshchenko Illya, 2023\"\n",
    "date: \"22.11.2023\"\n",
    "lang: ukr\n",
    "format:\n",
    "  html:\n",
    "    code-fold: true\n",
    "    toc: true # меню\n",
    "    toc_float: # спливаюче меню  \n",
    "      collapsed: true # авто\n",
    "      number_sections: true\n",
    "jupyter: python3\n",
    "---"
   ]
  },
  {
   "cell_type": "markdown",
   "metadata": {},
   "source": [
    "__Мета:__ _навчитися розв'язувати задачі одновимірної нелінійної безумовної та умовної оптимізації._"
   ]
  },
  {
   "cell_type": "markdown",
   "metadata": {},
   "source": [
    "::: callout-note\n",
    "## Примітка\n",
    "Перед виконанням лабораторної роботи необхідно опрацювати матеріал лекції 3.\n",
    ":::"
   ]
  },
  {
   "cell_type": "markdown",
   "metadata": {
    "tags": []
   },
   "source": [
    "## Що ви будете вміти?\n",
    "* розв'язувати задачу багатовимірної нелінійної безумовної оптимізації у середовищі Python методами Ньютона, покоординатного та найскорішого спуску за допомогою функцій пакета SciPy.;\n",
    "* розв'язувати задачу багатовимірної нелінійної умовної оптимізаціїу середовищі Python за допомогою функцій пакета SciPy."
   ]
  },
  {
   "cell_type": "markdown",
   "metadata": {},
   "source": [
    "::: callout-important\n",
    "## Важливо\n",
    "\n",
    "Повторити матеріал лаб. раб № 0 \"Налаштування віртуального середовища `conda`\".\n",
    ":::"
   ]
  },
  {
   "cell_type": "markdown",
   "metadata": {},
   "source": [
    "## Інсталяція SciPy\n",
    "\n",
    "Інсталлювати пакет можна як по каналам `conda`, так і з ресурсу PyPi за допмогою менеджера пакетів `pip`. Для \n",
    "цього необхідно __активувати відповідне віртуальне середовище__ і в консолі виконати команду пошуку відповідного пакету:"
   ]
  },
  {
   "cell_type": "markdown",
   "metadata": {},
   "source": [
    "`conda search scypi`"
   ]
  },
  {
   "cell_type": "markdown",
   "metadata": {},
   "source": [
    "Якщо пакет буде знайдено, встановити потрібну версію. Для встановлення самої останньої версії потрібно виконати команду:"
   ]
  },
  {
   "cell_type": "markdown",
   "metadata": {},
   "source": [
    "`conda install scipy`"
   ]
  },
  {
   "cell_type": "markdown",
   "metadata": {},
   "source": [
    "Якщо ми хочемо встановити пакет за допмогою менеджера пакетів `pip`, потрібно виконати наступну команду"
   ]
  },
  {
   "cell_type": "markdown",
   "metadata": {},
   "source": [
    "`pip install -U scipy`"
   ]
  },
  {
   "cell_type": "markdown",
   "metadata": {},
   "source": [
    "## Прямі методи розв'язання задачі НЛП без обмежень"
   ]
  },
  {
   "cell_type": "markdown",
   "metadata": {
    "tags": []
   },
   "source": [
    "### Методо Ньютона"
   ]
  },
  {
   "cell_type": "markdown",
   "metadata": {},
   "source": [
    "Для розв'язання задачі нелінійної багатовимірної оптимізації методом Ньютона можна використати бібліотеку `SciPy`. Нижче наведений приклад коду на Python, який це демонструє"
   ]
  },
  {
   "cell_type": "markdown",
   "metadata": {
    "tags": []
   },
   "source": [
    "### Приклад 1\n",
    "\n",
    "$$f(x_1, x_2) = x_1^2 + x_2^2 \\rightarrow min, x_1, x_2 \\in R^2.$$  "
   ]
  },
  {
   "cell_type": "code",
   "execution_count": 16,
   "metadata": {},
   "outputs": [
    {
     "name": "stdout",
     "output_type": "stream",
     "text": [
      "Optimization Result:\n",
      "Minimum found at x = [0. 0.]\n",
      "Objective function value at minimum = 0.0\n"
     ]
    }
   ],
   "source": [
    "import numpy as np\n",
    "from scipy.optimize import minimize\n",
    "\n",
    "# Визначення функції, яку необхідно оптимізувати\n",
    "def objective_function(x):\n",
    "    return x[0]**2 + x[1]**2\n",
    "\n",
    "# Визначення похідних функції (градієнта та гессіана)\n",
    "def gradient(x):\n",
    "    return np.array([2*x[0], 2*x[1]])\n",
    "\n",
    "def hessian(x):\n",
    "    return np.array([[2, 0], [0, 2]])\n",
    "\n",
    "# Початкова точка\n",
    "x0 = np.array([1, 1])\n",
    "\n",
    "# Виклик функції minimize з використанням методу Ньютона\n",
    "result = minimize(objective_function, x0, method='Newton-CG', jac=gradient, hess=hessian)\n",
    "\n",
    "# Виведення результату\n",
    "print(\"Optimization Result:\")\n",
    "print(\"Minimum found at x =\", result.x)\n",
    "print(\"Objective function value at minimum =\", result.fun)\n"
   ]
  },
  {
   "cell_type": "markdown",
   "metadata": {},
   "source": [
    "У цьому прикладі ми спочатку визначаємо функцію `objective_function`, яку необхідно оптимізувати. Далі ми визначаємо похідні цієї функції - градієнт та гессіан.\n",
    "\n",
    "Потім ми вказуємо початкову точку `x0` і викликаємо функцію minimize з методом 'Newton-CG'. Ми передаємо функцію `objective_function`, градієнт та гессіан через аргументи `ja`c і `hess`. Результат оптимізації зберігається у змінній `result`.\n",
    "\n",
    "На останок ми виводимо результат, який містить знайдену точку мінімуму `result.x` і значення функції в цій точці `result.fun`.\n",
    "\n",
    "Будь ласка, зверніть увагу, що для використання методу Ньютона в бібліотеці SciPy необхідно мати градієнт та гессіан функції. "
   ]
  },
  {
   "cell_type": "markdown",
   "metadata": {},
   "source": [
    "### Метод найшвидшого спуску\n"
   ]
  },
  {
   "cell_type": "markdown",
   "metadata": {},
   "source": [
    "### Приклад 2\n",
    "\n",
    "В якості прикладу візьмемо задачу з попереднього прикладу."
   ]
  },
  {
   "cell_type": "code",
   "execution_count": 15,
   "metadata": {},
   "outputs": [
    {
     "name": "stdout",
     "output_type": "stream",
     "text": [
      "Optimization Result:\n",
      "Minimum found at x = [2.85822151e-09 2.85822151e-09]\n",
      "Objective function value at minimum = 1.6338860400721932e-17\n"
     ]
    }
   ],
   "source": [
    "import numpy as np\n",
    "from scipy.optimize import minimize\n",
    "\n",
    "# Визначення функції, яку необхідно оптимізувати\n",
    "def objective_function(x):\n",
    "    return x[0]**2 + x[1]**2\n",
    "\n",
    "# Визначення похідних функції\n",
    "def gradient(x):\n",
    "    return np.array([2*x[0], 2*x[1]])\n",
    "\n",
    "# Початкова точка\n",
    "x0 = np.array([1, 1])\n",
    "\n",
    "# Виклик функції minimize з використанням методу найшвидшого спуску (градієнтного спуску)\n",
    "result = minimize(objective_function, x0, method='CG', jac=gradient)\n",
    "\n",
    "# Виведення результату\n",
    "print(\"Optimization Result:\")\n",
    "print(\"Minimum found at x =\", result.x)\n",
    "print(\"Objective function value at minimum =\", result.fun)\n"
   ]
  },
  {
   "cell_type": "markdown",
   "metadata": {},
   "source": [
    "У цьому прикладі ми визначаємо функцію `objective_function`, яку необхідно оптимізувати, і функцію `gradient`, яка обчислює градієнт цієї функції.\n",
    "\n",
    "Потім ми вказуємо початкову точку x0 і викликаємо функцію minimize з методом 'CG' (метод найшвидшого спуску). Ми передаємо функцію `objective_function` через аргумент `fun` і функцію `gradient` через аргумент `jac`, який вказує, що ми надаємо градієнт функції."
   ]
  },
  {
   "cell_type": "markdown",
   "metadata": {},
   "source": [
    "### Метод покоординатного спуску "
   ]
  },
  {
   "cell_type": "markdown",
   "metadata": {},
   "source": [
    "### Приклад 3\n",
    "\n",
    "В якості прикладу візьмемо задачу з попереднього прикладу."
   ]
  },
  {
   "cell_type": "code",
   "execution_count": 14,
   "metadata": {},
   "outputs": [
    {
     "name": "stdout",
     "output_type": "stream",
     "text": [
      "Optimization Result:\n",
      "Minimum found at x = [ 2.96677426e-06 -6.83590156e-05]\n",
      "Objective function value at minimum = 4.681756760285287e-09\n"
     ]
    }
   ],
   "source": [
    "import numpy as np\n",
    "from scipy.optimize import minimize\n",
    "\n",
    "# Визначення функції, яку необхідно оптимізувати\n",
    "def objective_function(x):\n",
    "    return x[0]**2 + x[1]**2\n",
    "\n",
    "# Початкова точка\n",
    "x0 = np.array([1, 1])\n",
    "\n",
    "# Виклик функції minimize з використанням методу поординатного спуску\n",
    "result = minimize(objective_function, x0, method='COBYLA')\n",
    "\n",
    "# Виведення результату\n",
    "print(\"Optimization Result:\")\n",
    "print(\"Minimum found at x =\", result.x)\n",
    "print(\"Objective function value at minimum =\", result.fun)\n"
   ]
  },
  {
   "cell_type": "markdown",
   "metadata": {},
   "source": [
    "У цьому прикладі ми визначаємо функцію `objective_function`, яку необхідно оптимізувати.\n",
    "\n",
    "Потім ми вказуємо початкову точку `x0` і викликаємо функцію `minimize` з методом 'COBYLA' (метод покординатного спуску). Ми передаємо функцію `objective_function` через аргумент `fun`. Результат оптимізації зберігається у змінній `result`.\n",
    "\n",
    "На останок ми виводимо результат, який містить знайдену точку мінімуму `result.x` і значення функції в цій точці `result.fun`."
   ]
  },
  {
   "cell_type": "markdown",
   "metadata": {},
   "source": [
    "## Прямі методи розв'язання задачі НЛП без обмежень\n",
    "\n",
    "За допомогою функції `mininmize()` можна розв'язати і задачу умовної оптимізації. Нижче наведено приклад, який це демонструє."
   ]
  },
  {
   "cell_type": "markdown",
   "metadata": {},
   "source": [
    "### [Приклад 4](https://soumenatta.medium.com/nonlinear-optimization-made-easy-with-python-ca64c2826d83) \n",
    "\n",
    "$$f(x_0, x_1) = (x_0 - 3)^2 + (x_1 - 4)^2 \\rightarrow min, x_1, x_2 \\in R^2.$$  \n",
    "$$x_0^2 + x_1^2 \\le 10$$"
   ]
  },
  {
   "cell_type": "code",
   "execution_count": 19,
   "metadata": {},
   "outputs": [
    {
     "name": "stdout",
     "output_type": "stream",
     "text": [
      " message: Optimization terminated successfully\n",
      " success: True\n",
      "  status: 0\n",
      "     fun: 25.0\n",
      "       x: [ 6.000e+00  8.000e+00]\n",
      "     nit: 1\n",
      "     jac: [-6.000e+00 -8.000e+00]\n",
      "    nfev: 4\n",
      "    njev: 1\n"
     ]
    }
   ],
   "source": [
    "from scipy.optimize import minimize\n",
    "\n",
    "def objective(x):\n",
    "    return (x[0] - 3)**2 + (x[1] - 4)**2\n",
    "\n",
    "def constraint(x):\n",
    "    return x[0]**2 + x[1]**2 - 10\n",
    "\n",
    "x0 = [0, 0]\n",
    "\n",
    "solution = minimize(objective, x0, constraints={'type': 'ineq', 'fun': constraint})\n",
    "\n",
    "print(solution)\n"
   ]
  },
  {
   "cell_type": "markdown",
   "metadata": {},
   "source": [
    "Ось що означають різні поля вихідного повідомлення:\n",
    "\n",
    "* `Optimization terminated successfully`: це означає, що алгоритм оптимізації знайшов рішення, яке задовольняє вказані обмеження, і оптимізував цільову функцію до її найкращого можливого значення.\n",
    "* `success: True`: це означає, що оптимізація була успішною.\n",
    "* `status: 0`: це код стану, який повертає розв’язувач. Код статусу `0` зазвичай означає, що оптимізація пройшла успішно.\n",
    "* `fun: 25,0`: Це оптимізоване значення цільової функції при оптимальному розв’язанні.\n",
    "* `x: [6.000e+00 8.000e+00]`: це оптимальне рішення, знайдене розв’язувачем. У цьому випадку оптимальними значеннями для змінних рішення є `x[0] = 6,0` і `x[1] = 8,0`.\n",
    "* `nit: 1`: це кількість ітерацій, які виконує розв’язувач, щоб знайти оптимальний розв'язок.\n",
    "* `jac: [-6.000e+00 -8.000e+00]`: це якобіан обмежень оптимального рішення.\n",
    "* `nfev: 4`: це кількість разів, коли цільова функція була оцінена під час оптимізації.\n",
    "* `njev: 1`: це кількість разів, коли якобіан оцінювався під час оптимізації."
   ]
  },
  {
   "cell_type": "markdown",
   "metadata": {},
   "source": [
    "## Завдання для самостіної роботи\n",
    "\n",
    "1. Розглянути приклади 1-5, наведені вище у цьому зошиті.\n",
    "\n",
    "1. Розв'язати задачу __одним з трьох методів__ (поділу навпіл, чисел Фібоначчі, золотого перетину) згідно з варіантом індивідуального завдання РГР.\n",
    "\n",
    "Метод Ньютона:\n",
    "Визначення матриці Гессе:\n",
    "Матриця Гессе складається з других похідних функції. Знайдемо їх:\n",
    "f''(x1) = 12\n",
    "f''(x2) = 8\n",
    "f''(x1, x2) = 2\n",
    "Тоді матриця Гессе буде мати наступний вигляд:\n",
    "H = [[f''(x1), f''(x1, x2)],\n",
    "[f''(x1, x2), f''(x2)]]\n",
    "= [[12, 2],\n",
    "[2, 8]]\n",
    "\n",
    "Початковий вектор:\n",
    "X0 = [1, 2]\n",
    "\n",
    "Ітераційна формула:\n",
    "X(k+1) = X(k) - H^(-1) * ∇f(X(k))\n",
    "\n",
    "Де ∇f(X(k)) - градієнт функції f(X(k)), а H^(-1) - обернена матриця Гессе.\n",
    "\n",
    "Обчислення градієнта:\n",
    "∇f(X) = [∂f/∂x1, ∂f/∂x2]\n",
    "∂f/∂x1 = 12(2x1 - 1) + 2x1x2\n",
    "= 24x1 - 12 + 2x1x2\n",
    "\n",
    "∂f/∂x2 = 8(4x2 - 1) + x1^2\n",
    "= 32x2 - 8 + x1^2\n",
    "\n",
    "Підставимо значення x1 = 1, x2 = 2:\n",
    "∇f(X0) = [24(1) - 12 + 2(1)(2), 32(2) - 8 + (1)^2]\n",
    "= [24 - 12 + 4, 64 - 8 + 1]\n",
    "= [16, 57]\n",
    "\n",
    "Обчислення оберненої матриці Гессе:\n",
    "H^(-1) = [[f''(x2)/(f''(x1)f''(x2) - f''(x1, x2)^2), -f''(x1, x2)/(f''(x1)f''(x2) - f''(x1, x2)^2)],\n",
    "[-f''(x1, x2)/(f''(x1)f''(x2) - f''(x1, x2)^2), f''(x1)/(f''(x1)f''(x2) - f''(x1, x2)^2)]]\n",
    "Підставимо значення:\n",
    "H^(-1) = [[8/(128 - 2^2), -2/(128 - 2^2)],\n",
    "[-2/(128 - 2^2), 12/(128 - 2^2)]]\n",
    "\n",
    "Обчислимо:\n",
    "H^(-1) = [[8/92, -2/92],\n",
    "[-2/92, 12/92]]\n",
    "= [[2/23, -1/23],\n",
    "[-1/23, 3/23]]\n",
    "\n",
    "Ітераційний процес:\n",
    "Застосуємо ітераційну формулу з отриманими значеннями:\n",
    "X(k+1) = X(k) - H^(-1) * ∇f(X(k))\n",
    "Підставимо значення:\n",
    "X1 = X0 - [[2/23, -1/23],\n",
    "[-1/23, 3/23]] * [16, 57]\n",
    "\n",
    "Обчислимо:\n",
    "X1 = [1, 2] - [[2/23, -1/23],\n",
    "[-1/23, 3/23]] * [16, 57]\n",
    "= [1, 2] - [32/23 - (-57/23), (-16/23) + (171/23)]\n",
    "= [1, 2] - [89/23, 155/23]\n",
    "= [1, 2] - [3.8696, 6.7391]\n",
    "= [-2.8696, -4.7391]\n",
    "\n",
    "Перевірка критерію зупинки:\n",
    "Обчислимо норму різниці між X1 і X0:\n",
    "||X1 - X0|| = sqrt((-2.8696 - 1)^2 + (-4.7391 - 2)^2)\n",
    "Обчислимо:\n",
    "||X1 - X0|| = sqrt((-3.8696)^2 + (-6.7391)^2)\n",
    "= sqrt(14.9849 + 45.3819)\n",
    "= sqrt(60.3668)\n",
    "≈ 7.774\n",
    "\n",
    "Якщо ||X1 - X0|| > Eps (0.02), то повторюємо ітераційний процес, використовуючи X1 як нове X0.\n",
    "\n",
    "Продовжуємо ітераційний процес до тих пір, поки не буде досягнута потрібна точність.\n",
    "\n",
    "В даному випадку, оскільки ||X1 - X0|| = 7.774 > 0.02, потрібно повторити ітераційний процес, використовуючи X1 як нове X0, тобто X0 = [-2.8696, -4.7391].\n",
    "\n",
    "3. Розв'язати задачу за допомогою функції `minimize()` пакета `SciPy`."
   ]
  },
  {
   "cell_type": "code",
   "execution_count": 1,
   "metadata": {},
   "outputs": [
    {
     "name": "stdout",
     "output_type": "stream",
     "text": [
      "Оптимальне значення цільової функції: 0.060324137624217844\n",
      "Значення змінних:\n",
      "x1 = 0.4901052021385537\n",
      "x2 = 0.24249358170024674\n"
     ]
    }
   ],
   "source": [
    "from scipy.optimize import minimize\n",
    "\n",
    "# Функція цільової оптимізації\n",
    "def objective(x):\n",
    "    x1, x2 = x\n",
    "    return 3*(2*x1 - 1)**2 + (4*x2 - 1)**2 + (x1**2)*x2\n",
    "\n",
    "# Початковий вектор\n",
    "x0 = [1, 2]\n",
    "\n",
    "# Виклик функції minimize()\n",
    "result = minimize(objective, x0, tol=0.02)\n",
    "\n",
    "# Виведення результатів\n",
    "print('Оптимальне значення цільової функції:', result.fun)\n",
    "print('Значення змінних:')\n",
    "print('x1 =', result.x[0])\n",
    "print('x2 =', result.x[1])\n"
   ]
  },
  {
   "cell_type": "markdown",
   "metadata": {},
   "source": [
    "\n",
    "4. Створити файл __mo_lab_3_StudentLastName.ipynb__ з написаним кодом. \n",
    "\n",
    "5. Відкомпілювати звіт у вигляді __mo_lab_3_StudentLastName.html__."
   ]
  },
  {
   "cell_type": "markdown",
   "metadata": {},
   "source": [
    "## Контрольні запитання\n",
    "\n",
    "1. Чим відрізняють прямі і непрямі методи розв'язання задачі багатовимірної умовної нелінійної оптимізації?\n",
    "\n",
    "Прямі методи оптимізації працюють без обчислення похідних, використовуючи лише значення функції. Непрямі методи використовують похідні функції для керування пошуком оптимального розв'язку.\n",
    "\n",
    "2. Сформулюйте необхідну та достатню умови існування екстремуму функції багатьох змінних.\n",
    "\n",
    "Необхідна умова існування екстремуму функції багатьох змінних полягає в наявності точки, в якій всі часткові похідні функції дорівнюють нулю або не існують. Ця умова називається умовою першого порядку.\n",
    "\n",
    "Достатня умова існування екстремуму функції багатьох змінних може бути сформульована в різних формах залежно від контексту та типу екстремуму:\n",
    "\n",
    "Якщо всі часткові похідні другого порядку функції є додатньо (або від'ємними) в точці, де часткові похідні першого порядку дорівнюють нулю, то це свідчить про наявність локального мінімуму (або максимуму). Ця умова називається умовою другого порядку або умовою Сильвестра.\n",
    "\n",
    "Якщо гессіан (матриця часткових похідних другого порядку) функції є позитивно визначеним (або негативно визначеним) в точці, де часткові похідні першого порядку дорівнюють нулю, то це свідчить про наявність строгого локального мінімуму (або максимуму). Ця умова називається умовою Сильвестра-Гесса."
   ]
  },
  {
   "cell_type": "markdown",
   "metadata": {},
   "source": [
    "## References"
   ]
  },
  {
   "cell_type": "markdown",
   "metadata": {},
   "source": [
    "1. [Anaconda (Python distribution)](https://uk.wikipedia.org/wiki/Anaconda_(Python_distribution)) \n",
    "1. [Conda](https://conda.io/en/latest/)  \n",
    "1. [Научно-издательская система Quarto](https://data-visualization-blog.netlify.app/posts/quarto/)\n",
    "1. [The Python Standard Library](https://docs.python.org/3/library/index.html)\n",
    "1. [Callout Blocks. Markdown Syntax](https://quarto.org/docs/authoring/callouts.html)  \n",
    "1. [Nonlinear Optimization Made Easy with Python](https://soumenatta.medium.com/nonlinear-optimization-made-easy-with-python-ca64c2826d83)"
   ]
  }
 ],
 "metadata": {
  "kernelspec": {
   "display_name": "Python 3 (ipykernel)",
   "language": "python",
   "name": "python3"
  },
  "language_info": {
   "codemirror_mode": {
    "name": "ipython",
    "version": 3
   },
   "file_extension": ".py",
   "mimetype": "text/x-python",
   "name": "python",
   "nbconvert_exporter": "python",
   "pygments_lexer": "ipython3",
   "version": "3.9.16"
  }
 },
 "nbformat": 4,
 "nbformat_minor": 4
}
