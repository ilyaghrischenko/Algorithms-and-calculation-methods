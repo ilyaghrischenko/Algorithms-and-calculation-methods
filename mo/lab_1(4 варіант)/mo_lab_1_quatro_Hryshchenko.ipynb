{
 "cells": [
  {
   "cell_type": "code",
   "execution_count": null,
   "metadata": {},
   "outputs": [],
   "source": []
  },
  {
   "cell_type": "markdown",
   "metadata": {},
   "source": [
    "---\n",
    "title: \"Лабораторна робота №1. Симплекс-метод розв'язання задачі лінійного програмування\"\n",
    "description:\n",
    "  Документ зроблено в [Quarto](https://quarto.org/)\n",
    "author: \"&copy; [Valeriy Sydorenko](https://www.linkedin.com/in/valeriy-sydorenko-6782279a/) and Hryshchenko Illya, 2023\"\n",
    "date: \"09.11.2023\"\n",
    "lang: ukr\n",
    "format:\n",
    "  html:\n",
    "    code-fold: true\n",
    "    toc: true # меню\n",
    "    toc_float: # спливаюче меню  \n",
    "      collapsed: true # fdnj\n",
    "      number_sections: true\n",
    "jupyter: python3\n",
    "---"
   ]
  },
  {
   "cell_type": "markdown",
   "metadata": {},
   "source": [
    "__Мета:__ _навчитися розв'язувати задачу лінійного програмування (ЗЛП) симплекс-методом._"
   ]
  },
  {
   "cell_type": "markdown",
   "metadata": {},
   "source": [
    "::: callout-note\n",
    "## Примітка\n",
    "Перед виконанням лабораторної роботи необхідно опрацювати матеріал лекцій 1 і 2.\n",
    ":::"
   ]
  },
  {
   "cell_type": "markdown",
   "metadata": {},
   "source": [
    "## Що ви будете вміти?\n",
    "* розв'язувати задачу ЛП у середовищі Python за допомогою функцій пакета SciPy;\n",
    "* розв'язувати задачу ЛП у середовищі Python за допомогою функцій пакета PuLP."
   ]
  },
  {
   "cell_type": "markdown",
   "metadata": {},
   "source": [
    "::: callout-important\n",
    "## Важливо\n",
    "\n",
    "Повторити матеріал лаб. раб № 0 \"Налаштування віртуального середовища `conda`\".\n",
    ":::"
   ]
  },
  {
   "cell_type": "markdown",
   "metadata": {},
   "source": [
    "## Розв'язання задачі ЛП на Python "
   ]
  },
  {
   "cell_type": "markdown",
   "metadata": {},
   "source": [
    "### Інсталяція SciPy та PuLP\n",
    "\n",
    "Інсталлювати пакет можна як по каналам `conda`, так і з ресурсу PyPi за допмогою менеджера пакетів `pip`. Для \n",
    "цього необхідно __активувати відповідне віртуальне середовище__ і в консолі виконати команду пошуку відповідного пакету:"
   ]
  },
  {
   "cell_type": "markdown",
   "metadata": {},
   "source": [
    "`conda search scypi`"
   ]
  },
  {
   "cell_type": "markdown",
   "metadata": {},
   "source": [
    "Якщо пакет буде знайдено, встановити потрібну версію. Для встановлення самої останньої версії потрібно виконати команду:"
   ]
  },
  {
   "cell_type": "markdown",
   "metadata": {},
   "source": [
    "`conda install scipy`"
   ]
  },
  {
   "cell_type": "markdown",
   "metadata": {},
   "source": [
    "Якщо ми хочемо встановити пакет за допмогою менеджера пакетів `pip`, потрібно виконати наступну команду"
   ]
  },
  {
   "cell_type": "markdown",
   "metadata": {},
   "source": [
    "`pip install -U pulp`"
   ]
  },
  {
   "cell_type": "markdown",
   "metadata": {},
   "source": [
    "::: callout-note\n",
    "## Примітка\n",
    "При підготовці прикладів використано матеріали чудового ресурсу [\"Hands-On Linear Programming: Optimization With Python\"](https://realpython.com/linear-programming-python/), який рекомендується для поглибленого опрацювання цієї теми. \n",
    ":::"
   ]
  },
  {
   "cell_type": "markdown",
   "metadata": {},
   "source": [
    "### Розв'язання з використанням пакета SciPy "
   ]
  },
  {
   "cell_type": "markdown",
   "metadata": {},
   "source": [
    "Для розв'язку ЗЛП симплекс-методом у SciPy існує функція `linprog()`. Є певні особливості із її застосуванням: `linprog()` вирішує лише проблеми мінімізації (а не максимізації) і не допускає обмежень нерівності зі знаком більше або дорівнює (`≥`).   \n",
    "\n",
    "Щоб вирішити ці проблеми, потрібно змінити проблему перед початком оптимізації:\n",
    "\n",
    "* Замість того, щоб максимізувати `z = x + 2y`, ми можемо переформулювати задачу в термінах мінімізації функції `(−z = −x − 2y)`.\n",
    "* Замість того, щоб мати знак «більше» або «дорівнює», ми можемо помножити жовту нерівність на `−1` і отримати протилежне значення «менше або дорівнює» зі знаком (`≤`).\n",
    "\n",
    "Тоді будемо мати наступну задачу:\n",
    "\n",
    "![](attachment:43ed1c1d-08ec-4810-8dfa-fe17f0625634.png)\n",
    "\n",
    "Нижче наведено код для розв'язку задачі."
   ]
  },
  {
   "cell_type": "code",
   "execution_count": null,
   "metadata": {},
   "outputs": [
    {
     "name": "stderr",
     "output_type": "stream",
     "text": [
      "C:\\Users\\Valeriy\\AppData\\Local\\Temp\\ipykernel_7552\\2365500562.py:22: DeprecationWarning: `method='revised simplex'` is deprecated and will be removed in SciPy 1.11.0. Please use one of the HiGHS solvers (e.g. `method='highs'`) in new code.\n",
      "  opt = linprog(c=obj, A_ub=lhs_ineq, b_ub=rhs_ineq,\n"
     ]
    },
    {
     "data": {
      "text/plain": [
       " message: Optimization terminated successfully.\n",
       " success: True\n",
       "  status: 0\n",
       "     fun: -16.818181818181817\n",
       "       x: [ 7.727e+00  4.545e+00]\n",
       "     nit: 3"
      ]
     },
     "metadata": {},
     "output_type": "display_data"
    }
   ],
   "source": [
    "from scipy.optimize import linprog\n",
    "\n",
    "obj = [-1, -2]\n",
    "#      ─┬  ─┬\n",
    "#       │   └┤ Coefficient for y\n",
    "#       └────┤ Coefficient for x\n",
    "\n",
    "lhs_ineq = [[ 2,  1],  # Red constraint left side\n",
    "            [-4,  5],  # Blue constraint left side\n",
    "            [ 1, -2]]  # Yellow constraint left side\n",
    "\n",
    "rhs_ineq = [20,  # Red constraint right side\n",
    "            10,  # Blue constraint right side\n",
    "             2]  # Yellow constraint right side\n",
    "\n",
    "lhs_eq = [[-1, 5]]  # Green constraint left side\n",
    "rhs_eq = [15]       # Green constraint right side\n",
    "\n",
    "bnd = [(0, float(\"inf\")),  # Bounds of x\n",
    "       (0, float(\"inf\"))]  # Bounds of y\n",
    "\n",
    "opt = linprog(c=obj, A_ub=lhs_ineq, b_ub=rhs_ineq,\n",
    "              A_eq=lhs_eq, b_eq=rhs_eq, bounds=bnd,\n",
    "              method=\"revised simplex\")\n",
    "opt\n"
   ]
  },
  {
   "cell_type": "markdown",
   "metadata": {},
   "source": [
    "### Завдання 1\n",
    "\n",
    "Розв'язати задачу ЛП згідно з індивідуальним варіантом з Практичного заняття 1 (Графічний метод) з методички для практичних занять і самостійної роботи."
   ]
  },
  {
   "cell_type": "code",
   "execution_count": null,
   "metadata": {},
   "outputs": [
    {
     "ename": "TypeError",
     "evalue": "bad operand type for unary -: 'NoneType'",
     "output_type": "error",
     "traceback": [
      "\u001b[1;31m---------------------------------------------------------------------------\u001b[0m\n",
      "\u001b[1;31mTypeError\u001b[0m                                 Traceback (most recent call last)\n",
      "Cell \u001b[1;32mIn[1], line 15\u001b[0m\n",
      "\u001b[0;32m     12\u001b[0m result \u001b[38;5;241m=\u001b[39m linprog(c, A_ub\u001b[38;5;241m=\u001b[39mA, b_ub\u001b[38;5;241m=\u001b[39mb, bounds\u001b[38;5;241m=\u001b[39m(\u001b[38;5;241m0\u001b[39m, \u001b[38;5;28;01mNone\u001b[39;00m))\n",
      "\u001b[0;32m     14\u001b[0m \u001b[38;5;66;03m# Виведення оптимального значення цільової функції та значення змінних\u001b[39;00m\n",
      "\u001b[1;32m---> 15\u001b[0m \u001b[38;5;28mprint\u001b[39m(\u001b[38;5;124m'\u001b[39m\u001b[38;5;124mОптимальне значення цільової функції:\u001b[39m\u001b[38;5;124m'\u001b[39m, \u001b[38;5;241;43m-\u001b[39;49m\u001b[43mresult\u001b[49m\u001b[38;5;241;43m.\u001b[39;49m\u001b[43mfun\u001b[49m)\n",
      "\u001b[0;32m     16\u001b[0m \u001b[38;5;28mprint\u001b[39m(\u001b[38;5;124m'\u001b[39m\u001b[38;5;124mЗначення змінних:\u001b[39m\u001b[38;5;124m'\u001b[39m)\n",
      "\u001b[0;32m     17\u001b[0m \u001b[38;5;28mprint\u001b[39m(\u001b[38;5;124m'\u001b[39m\u001b[38;5;124mx1 =\u001b[39m\u001b[38;5;124m'\u001b[39m, result\u001b[38;5;241m.\u001b[39mx[\u001b[38;5;241m0\u001b[39m])\n",
      "\n",
      "\u001b[1;31mTypeError\u001b[0m: bad operand type for unary -: 'NoneType'"
     ]
    }
   ],
   "source": [
    "import numpy as np\n",
    "from scipy.optimize import linprog\n",
    "# Матриця коефіцієнтів обмежень\n",
    "A = np.array([[3, -1], [2, 3], [-1, 4]])\n",
    "\n",
    "# Вектор обмежень\n",
    "b = np.array([9, 12, -4])\n",
    "\n",
    "# Коефіцієнти цільової функції\n",
    "c = np.array([-1, -1])\n",
    "# Виклик функції linprog\n",
    "result = linprog(c, A_ub=A, b_ub=b, bounds=(0, None))\n",
    "\n",
    "# Виведення оптимального значення цільової функції та значення змінних\n",
    "print('Оптимальне значення цільової функції:', -result.fun)\n",
    "print('Значення змінних:')\n",
    "print('x1 =', result.x[0])\n",
    "print('x2 =', result.x[1])\n"
   ]
  },
  {
   "cell_type": "markdown",
   "metadata": {},
   "source": [
    "### Приклад 2\n",
    "\n",
    "Вище ми розглядали абстрактну задачу лінійного програмування, яка не була пов’язана з жодною реальною програмою. У цьому прикладі ми розв'яжемо більш конкретну та практичну задачу оптимізації, пов’язану з розподілом ресурсів у виробництві.\n",
    "\n",
    "Припустимо, що фабрика виробляє чотири різні продукти, і щоденна кількість виробленого першого продукту дорівнює x₁, кількість виробленого другого продукту дорівнює x₂ і так далі. Мета полягає в тому, щоб визначити щоденний обсяг виробництва для кожного продукту, який максимізує прибуток, беручи до уваги такі умови:\n",
    "\n",
    "* Прибуток на одиницю продукту становить 20, 12, 40 і 25 ум. од. відповідно за перший, другий, третій і четвертий продукт.\n",
    "\n",
    "* Через обмеження робочої сили загальна кількість вироблених одиниць за день не може перевищувати п’ятдесяти.\n",
    "\n",
    "* На кожну одиницю першого продукту витрачається три одиниці сировини А. Кожна одиниця другого продукту потребує двох одиниць сировини А та однієї одиниці сировини В. Кожна одиниця третього продукту потребує однієї одиниці А та двох одиниць В. Нарешті, кожна одиниця четвертого продукту вимагає трьох одиниці B.\n",
    "\n",
    "Через транспортні та складські обмеження фабрика може споживати до ста одиниць сировини А та дев’яноста одиниць В на день.\n",
    "\n",
    "Математична модель задачі має такий вигляд:\n",
    "\n",
    "![](attachment:c0c997cd-2749-4b5c-92dd-45a75dbbc8c0.png)\n",
    "\n",
    "Нижче наведено код розв'язання задачі."
   ]
  },
  {
   "cell_type": "code",
   "execution_count": null,
   "metadata": {},
   "outputs": [
    {
     "name": "stderr",
     "output_type": "stream",
     "text": [
      "C:\\Users\\Valeriy\\AppData\\Local\\Temp\\ipykernel_7552\\3842886295.py:12: DeprecationWarning: `method='revised simplex'` is deprecated and will be removed in SciPy 1.11.0. Please use one of the HiGHS solvers (e.g. `method='highs'`) in new code.\n",
      "  opt = linprog(c=obj, A_ub=lhs_ineq, b_ub=rhs_ineq,\n"
     ]
    },
    {
     "data": {
      "text/plain": [
       " message: Optimization terminated successfully.\n",
       " success: True\n",
       "  status: 0\n",
       "     fun: -1900.0\n",
       "       x: [ 5.000e+00  0.000e+00  4.500e+01  0.000e+00]\n",
       "     nit: 2"
      ]
     },
     "metadata": {},
     "output_type": "display_data"
    }
   ],
   "source": [
    "# Трансформуємо задачу у термінах максимізації!!!\n",
    "obj = [-20, -12, -40, -25]\n",
    "\n",
    "lhs_ineq = [[1, 1, 1, 1],  # Manpower\n",
    "            [3, 2, 1, 0],  # Material A\n",
    "            [0, 1, 2, 3]]  # Material B\n",
    "\n",
    "rhs_ineq = [ 50,  # Manpower\n",
    "            100,  # Material A\n",
    "             90]  # Material B\n",
    "\n",
    "opt = linprog(c=obj, A_ub=lhs_ineq, b_ub=rhs_ineq,\n",
    "              method=\"revised simplex\")\n",
    "opt"
   ]
  },
  {
   "cell_type": "markdown",
   "metadata": {},
   "source": [
    "Результат говорить вам, що максимальний прибуток становить `1900` і відповідає `x₁ = 5` і `x₃ = 45`. Виробляти другий і четвертий продукти за даних умов невигідно. Тут можна зробити кілька цікавих висновків:\n",
    "\n",
    "* Третій продукт приносить найбільший прибуток на одиницю, тому фабрика вироблятиме його найбільше.\n",
    "\n",
    "* завод виробляє 50 одиниць на добу, і це його повна потужність.\n",
    "\n",
    "* фабрика споживає 60 одиниць сировини А (15 одиниць для першого продукту плюс 45 для третього) з потенційних 100 одиниць.\n",
    "\n",
    "* фабрика споживає всі 90 одиниць сировини В. Уся ця кількість споживається для третього продукту. Тому фабрика взагалі не може випускати другу чи четверту продукцію і не може випустити більше 45 одиниць третьої продукції. У ньому відсутня сировина B.\n",
    "\n",
    "Можливості лінійного програмування SciPy корисні в основному для менших завдань. Для більших і складніших проблем ви можете знайти інші бібліотеки більш придатними з таких причин:\n",
    "\n",
    "* SciPy не може запускати різні зовнішні розв’язувачі.\n",
    "* SciPy не може працювати з цілочисельними змінними рішень.\n",
    "* SciPy не надає класів або функцій, які полегшують створення моделі. Ви повинні визначити масиви та матриці, що може бути виснажливим і схильним до помилок завданням для великих задач.\n",
    "* SciPy не дозволяє безпосередньо визначати проблеми максимізації. Ви повинні перетворити їх на задачі мінімізації.\n",
    "* SciPy не дозволяє визначати обмеження безпосередньо за допомогою знака «більше або рівно». Натомість ви повинні використовувати менше або дорівнює.\n",
    "\n",
    "На щастя, екосистема Python пропонує кілька альтернативних рішень для лінійного програмування, які дуже корисні для більших проблем. Одним із них є PuLP, який ми побачимо в дії в наступному розділі."
   ]
  },
  {
   "cell_type": "markdown",
   "metadata": {},
   "source": [
    "### Завдання 2\n",
    "\n",
    "Розв'язати задачу ЛП згідно з індивідуальним варіантом з Практичного заняття 2 (Симплекс-метод) з методички для практичних занять і самостійної роботи."
   ]
  },
  {
   "cell_type": "code",
   "execution_count": null,
   "metadata": {},
   "outputs": [
    {
     "name": "stderr",
     "output_type": "stream",
     "text": [
      "C:\\Users\\dimab\\AppData\\Local\\Temp\\ipykernel_24504\\4138445000.py:12: DeprecationWarning: `method='revised simplex'` is deprecated and will be removed in SciPy 1.11.0. Please use one of the HiGHS solvers (e.g. `method='highs'`) in new code.\n",
      "  opt = linprog(c=obj, A_ub=lhs_ineq, b_ub=rhs_ineq,\n"
     ]
    },
    {
     "data": {
      "text/plain": [
       " message: Optimization terminated successfully.\n",
       " success: True\n",
       "  status: 0\n",
       "     fun: -36.0\n",
       "       x: [ 0.000e+00  0.000e+00  8.000e-01  0.000e+00]\n",
       "     nit: 2"
      ]
     },
     "metadata": {},
     "output_type": "display_data"
    }
   ],
   "source": [
    "# Трансформуємо задачу у термінах максимізації!!!\n",
    "obj = [-45, -48, -45, 0]\n",
    "\n",
    "lhs_ineq = [[6, 3, 4, 5],  \n",
    "            [2, 3, 4, 0], \n",
    "            [15, 15, 10, 10]] \n",
    "\n",
    "rhs_ineq = [ 4,  \n",
    "            5,  \n",
    "             8]  \n",
    "\n",
    "opt = linprog(c=obj, A_ub=lhs_ineq, b_ub=rhs_ineq,\n",
    "              method=\"revised simplex\")\n",
    "opt"
   ]
  },
  {
   "cell_type": "markdown",
   "metadata": {},
   "source": [
    "## З використанням пакета PuLP "
   ]
  },
  {
   "cell_type": "markdown",
   "metadata": {},
   "source": [
    "### Приклад 3\n",
    "\n",
    "Розв'яжемо спочатку абстрактну задачу з приклада 1.\n",
    "![](attachment:f8097f4c-b26c-4c38-bb49-b9452cfb9682.png)\n",
    "\n",
    "з використанням можливостей пакета PuLP.\n",
    "\n",
    "На першому етапі пишемо код для формування нашої моделі:"
   ]
  },
  {
   "cell_type": "code",
   "execution_count": null,
   "metadata": {},
   "outputs": [
    {
     "ename": "ModuleNotFoundError",
     "evalue": "No module named 'pulp'",
     "output_type": "error",
     "traceback": [
      "\u001b[1;31m---------------------------------------------------------------------------\u001b[0m\n",
      "\u001b[1;31mModuleNotFoundError\u001b[0m                       Traceback (most recent call last)\n",
      "Cell \u001b[1;32mIn[15], line 1\u001b[0m\n",
      "\u001b[1;32m----> 1\u001b[0m \u001b[38;5;28;01mfrom\u001b[39;00m \u001b[38;5;21;01mpulp\u001b[39;00m \u001b[38;5;28;01mimport\u001b[39;00m LpMaximize, LpProblem, LpStatus, lpSum, LpVariable\n",
      "\u001b[0;32m      3\u001b[0m \u001b[38;5;66;03m# Create the model\u001b[39;00m\n",
      "\u001b[0;32m      4\u001b[0m model \u001b[38;5;241m=\u001b[39m LpProblem(name\u001b[38;5;241m=\u001b[39m\u001b[38;5;124m\"\u001b[39m\u001b[38;5;124msmall-problem\u001b[39m\u001b[38;5;124m\"\u001b[39m, sense\u001b[38;5;241m=\u001b[39mLpMaximize)\n",
      "\n",
      "\u001b[1;31mModuleNotFoundError\u001b[0m: No module named 'pulp'"
     ]
    }
   ],
   "source": [
    "from pulp import LpMaximize, LpProblem, LpStatus, lpSum, LpVariable\n",
    "\n",
    "# Create the model\n",
    "model = LpProblem(name=\"small-problem\", sense=LpMaximize)\n",
    "\n",
    "# Initialize the decision variables\n",
    "x = LpVariable(name=\"x\", lowBound=0)\n",
    "y = LpVariable(name=\"y\", lowBound=0)\n",
    "\n",
    "\n",
    "# Add the constraints to the model\n",
    "model += (2 * x + y <= 20, \"red_constraint\")\n",
    "model += (4 * x - 5 * y >= -10, \"blue_constraint\")\n",
    "model += (-x + 2 * y >= -2, \"yellow_constraint\")\n",
    "model += (-x + 5 * y == 15, \"green_constraint\")\n",
    "\n",
    "# Add the objective function to the model\n",
    "obj_func = x + 2 * y\n",
    "model += obj_func\n",
    "\n",
    "# # Add the objective function to the model\n",
    "# model += x + 2 * y\n",
    "\n",
    "# # Add the objective function to the model\n",
    "# model += lpSum([x, 2 * y])\n",
    "\n",
    "model\n"
   ]
  },
  {
   "cell_type": "markdown",
   "metadata": {},
   "source": [
    "Тепер, коли об'єкт моделі створено, можна запустити метод для розв'язання задачі оптимізації:"
   ]
  },
  {
   "cell_type": "code",
   "execution_count": null,
   "metadata": {},
   "outputs": [
    {
     "name": "stdout",
     "output_type": "stream",
     "text": [
      "status: 1, Optimal\n",
      "objective: 16.8181817\n",
      "x: 7.7272727\n",
      "y: 4.5454545\n",
      "red_constraint: -9.99999993922529e-08\n",
      "blue_constraint: 18.181818300000003\n",
      "yellow_constraint: 3.3636362999999996\n",
      "green_constraint: -2.0000000233721948e-07\n"
     ]
    }
   ],
   "source": [
    "# Solve the problem\n",
    "status = model.solve()\n",
    "\n",
    "print(f\"status: {model.status}, {LpStatus[model.status]}\")\n",
    "print(f\"objective: {model.objective.value()}\")\n",
    "\n",
    "for var in model.variables():\n",
    "    print(f\"{var.name}: {var.value()}\")\n",
    "\n",
    "for name, constraint in model.constraints.items():\n",
    "    print(f\"{name}: {constraint.value()}\")\n"
   ]
  },
  {
   "cell_type": "markdown",
   "metadata": {},
   "source": [
    "### Завдання 3\n",
    "\n",
    "Розв'язати задачу ЛП згідно з індивідуальним варіантом з Практичного заняття 1 (Графічний метод) з методички для практичних занять і самостійної роботи за допомогою можливостей пакета PuLP."
   ]
  },
  {
   "cell_type": "code",
   "execution_count": null,
   "metadata": {},
   "outputs": [
    {
     "ename": "ModuleNotFoundError",
     "evalue": "No module named 'pulp'",
     "output_type": "error",
     "traceback": [
      "\u001b[1;31m---------------------------------------------------------------------------\u001b[0m\n",
      "\u001b[1;31mModuleNotFoundError\u001b[0m                       Traceback (most recent call last)\n",
      "Cell \u001b[1;32mIn[14], line 1\u001b[0m\n",
      "\u001b[1;32m----> 1\u001b[0m \u001b[38;5;28;01mfrom\u001b[39;00m \u001b[38;5;21;01mpulp\u001b[39;00m \u001b[38;5;28;01mimport\u001b[39;00m LpVariable, LpProblem, LpMinimize, LpStatus, value\n",
      "\u001b[0;32m      3\u001b[0m \u001b[38;5;66;03m# Ініціалізація проблеми\u001b[39;00m\n",
      "\u001b[0;32m      4\u001b[0m problem \u001b[38;5;241m=\u001b[39m LpProblem(\u001b[38;5;124m\"\u001b[39m\u001b[38;5;124mlinear_programming_problem\u001b[39m\u001b[38;5;124m\"\u001b[39m, LpMinimize)\n",
      "\n",
      "\u001b[1;31mModuleNotFoundError\u001b[0m: No module named 'pulp'"
     ]
    }
   ],
   "source": [
    "from pulp import LpVariable, LpProblem, LpMinimize, LpStatus, value\n",
    "\n",
    "# Ініціалізація проблеми\n",
    "problem = LpProblem(\"linear_programming_problem\", LpMinimize)\n",
    "\n",
    "# Визначення змінних\n",
    "x1 = LpVariable(\"x1\", lowBound=0)\n",
    "x2 = LpVariable(\"x2\", lowBound=0)\n",
    "\n",
    "# Визначення обмежень\n",
    "problem += 3*x1 - x2 <= 9\n",
    "problem += 2*x1 + 3*x2 <= 12\n",
    "problem += x1 - 4*x2 >= 4\n",
    "\n",
    "# Визначення цільової функції\n",
    "problem += x1 + x2\n",
    "\n",
    "# Розв'язання проблеми\n",
    "status = problem.solve()\n",
    "\n",
    "# Виведення результатів\n",
    "print(\"Статус розв'язку:\", LpStatus[status])\n",
    "print(\"Оптимальне значення цільової функції:\", value(problem.objective))\n",
    "print(\"Значення змінних:\")\n",
    "print(\"x1 =\", value(x1))\n",
    "print(\"x2 =\", value(x2))\n"
   ]
  },
  {
   "cell_type": "markdown",
   "metadata": {},
   "source": [
    "### Завдання 4\n",
    "\n",
    "Розв'язати задачу ЛП згідно з індивідуальним варіантом з Практичного заняття 2 (Симплекс-метод) з методички для практичних занять і самостійної роботи за допомогою можливостей пакета PuLP."
   ]
  },
  {
   "cell_type": "code",
   "execution_count": null,
   "metadata": {},
   "outputs": [
    {
     "ename": "ModuleNotFoundError",
     "evalue": "No module named 'pulp'",
     "output_type": "error",
     "traceback": [
      "\u001b[1;31m---------------------------------------------------------------------------\u001b[0m\n",
      "\u001b[1;31mModuleNotFoundError\u001b[0m                       Traceback (most recent call last)\n",
      "Cell \u001b[1;32mIn[16], line 1\u001b[0m\n",
      "\u001b[1;32m----> 1\u001b[0m \u001b[38;5;28;01mfrom\u001b[39;00m \u001b[38;5;21;01mpulp\u001b[39;00m \u001b[38;5;28;01mimport\u001b[39;00m LpVariable, LpProblem, LpMaximize, LpStatus, value\n",
      "\u001b[0;32m      3\u001b[0m \u001b[38;5;66;03m# Ініціалізація проблеми\u001b[39;00m\n",
      "\u001b[0;32m      4\u001b[0m problem \u001b[38;5;241m=\u001b[39m LpProblem(\u001b[38;5;124m\"\u001b[39m\u001b[38;5;124mlinear_programming_problem\u001b[39m\u001b[38;5;124m\"\u001b[39m, LpMaximize)\n",
      "\n",
      "\u001b[1;31mModuleNotFoundError\u001b[0m: No module named 'pulp'"
     ]
    }
   ],
   "source": [
    "from pulp import LpVariable, LpProblem, LpMaximize, LpStatus, value\n",
    "\n",
    "# Ініціалізація проблеми\n",
    "problem = LpProblem(\"linear_programming_problem\", LpMaximize)\n",
    "\n",
    "# Визначення змінних\n",
    "x1 = LpVariable(\"x1\", lowBound=0)\n",
    "x2 = LpVariable(\"x2\", lowBound=0)\n",
    "x3 = LpVariable(\"x3\", lowBound=0)\n",
    "x4 = LpVariable(\"x4\", lowBound=0)\n",
    "\n",
    "# Визначення обмежень\n",
    "problem += 6*x1 + 3*x2 + 4*x3 + 5*x4 <= 4\n",
    "problem += 2*x1 + 3*x3 + 4*x4 <= 5\n",
    "problem += 15*x1 + 15*x2 + 10*x3 <= 8\n",
    "\n",
    "# Визначення цільової функції\n",
    "problem += 45*x1 + 48*x2 + 45*x3\n",
    "\n",
    "# Розв'язання проблеми\n",
    "status = problem.solve()\n",
    "\n",
    "# Виведення результатів\n",
    "print(\"Статус розв'язку:\", LpStatus[status])\n",
    "print(\"Оптимальне значення цільової функції:\", value(problem.objective))\n",
    "print(\"Значення змінних:\")\n",
    "print(\"x1 =\", value(x1))\n",
    "print(\"x2 =\", value(x2))\n",
    "print(\"x3 =\", value(x3))\n",
    "print(\"x4 =\", value(x4))\n"
   ]
  },
  {
   "cell_type": "markdown",
   "metadata": {},
   "source": [
    "## Завдання для самостіної роботи\n",
    "\n",
    "1. Розглянути приклади 1-3 і виконати завдання 1-4, наведені вище у цьому зошиті.\n",
    "\n",
    "1. Створити файл __mo_lab_1_StudentLastName.ipynb__ з написаним кодом. \n",
    "\n",
    "1. Відкомпілювати звіт у вигляді mo_lab_1_StudentLastName.html__."
   ]
  },
  {
   "cell_type": "markdown",
   "metadata": {},
   "source": [
    "## Контрольні запитання\n",
    "\n",
    "1. Яким чином працює симплекс-метод при розв'язанні задачі лінійного програмування?\n",
    "Симплекс-метод є одним з основних алгоритмів для розв'язання задач лінійного програмування. Він базується на пошуку оптимального розв'язку шляхом перебору вершини за допомогою перетворень симплексу.\n",
    "\n",
    "Основна ідея симплекс-методу полягає в тому, щоб рухатися вздовж ребер симплексу (n-вимірного політоопу), що визначаються базисними змінними. Кожна ітерація симплекс-методу складається з деяких кроків.\n",
    "\n",
    "1. Які основні кроки алгоритму симплекс-методу?\n",
    "\n",
    "1 Вибір початкового базису: Вибираються початкові базисні змінні, які задовольняють умові нев'язки. Початковий симплекс є відповідним політоопом з таким базисом.\n",
    "\n",
    "2 Перевірка оптимальності: Обчислюється цільова функція для поточного базису. Якщо значення цільової функції не може бути покращене шляхом зміни базису, тобто не існує жодного коефіцієнта цільової функції, який можна було б підвищити, то поточний базис є оптимальним розв'язком.\n",
    "\n",
    "3 Вибір вхідної змінної: Вибирається вхідна змінна, яка може увійти в базис і покращити значення цільової функції. Це зазвичай робиться за допомогою правила мінімального відношення.\n",
    "\n",
    "4 Вибір вихідної змінної: Вибирається вихідна змінна, яка повинна вийти з базису, щоб відкрити місце для вхідної змінної. Це зазвичай робиться за допомогою правила вихідної змінної, яке враховує обмеження на змінні.\n",
    "\n",
    "5 Оновлення базису: Змінюється базис, замінюючи вихідну змін\n",
    "\n",
    "1. Які недоліки має інструментарій бібліотеки SciPy у порівннянні з PuLP?\n",
    "\n",
    "1 Складність використання: SciPy є потужною бібліотекою для оптимізації, але вимагає деякого рівня експертизи для налаштування та використання.\n",
    "\n",
    "2 Обмежена функціональність: SciPy зосереджена на числових методах оптимізації загального типу і має обмежену функціональність для роботи з лінійним програмуванням.\n",
    "\n",
    "3 Відсутність підтримки цілочисельного програмування: SciPy не має вбудованої підтримки для цілочисельного програмування.\n",
    "\n",
    "4 Простота використання: PuLP має простий та зрозумілий синтаксис, що робить його легким для використання навіть для початківців.\n",
    "\n",
    "5 Широкий спектр функціональності: PuLP надає розширений набір функцій для розв'язання різних типів задач оптимізації."
   ]
  },
  {
   "cell_type": "markdown",
   "metadata": {},
   "source": [
    "## References"
   ]
  },
  {
   "cell_type": "markdown",
   "metadata": {},
   "source": [
    "1. [Anaconda (Python distribution)](https://uk.wikipedia.org/wiki/Anaconda_(Python_distribution)) \n",
    "1. [Conda](https://conda.io/en/latest/)  \n",
    "1. [Научно-издательская система Quarto](https://data-visualization-blog.netlify.app/posts/quarto/)\n",
    "1. [Hands-On Linear Programming: Optimization With Python](https://realpython.com/linear-programming-python/)\n",
    "1. [The Python Standard Library](https://docs.python.org/3/library/index.html)\n",
    "1. [Callout Blocks. Markdown Syntax](https://quarto.org/docs/authoring/callouts.html)  "
   ]
  }
 ],
 "metadata": {
  "language_info": {
   "name": "python"
  }
 },
 "nbformat": 4,
 "nbformat_minor": 2
}
